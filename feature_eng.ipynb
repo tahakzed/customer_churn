{
 "cells": [
  {
   "cell_type": "code",
   "execution_count": null,
   "id": "e8c23c66",
   "metadata": {},
   "outputs": [],
   "source": [
    "import pandas as pd\n"
   ]
  },
  {
   "cell_type": "code",
   "execution_count": null,
   "id": "bdf1d3fd",
   "metadata": {},
   "outputs": [],
   "source": [
    "data = pd.read_csv('data.csv')\n",
    "X = data.drop(columns=['Churn','customerID'])\n",
    "Y = data['Churn']"
   ]
  },
  {
   "cell_type": "code",
   "execution_count": null,
   "id": "e976a9a7",
   "metadata": {},
   "outputs": [],
   "source": [
    "data[data['TotalCharges'] == ' '] = '0'\n",
    "data['TotalCharges'] = data['TotalCharges'].astype(float)\n",
    "\n",
    "cat_cols = ['gender', 'Partner', 'Dependents', 'PhoneService', \n",
    "            'MultipleLines', 'InternetService', 'OnlineSecurity', 'OnlineBackup', 'DeviceProtection',\n",
    "            'TechSupport', 'StreamingTV', 'StreamingMovies','Contract','PaperlessBilling','PaymentMethod',\n",
    "            'Churn']\n",
    "\n",
    "num_cols = ['TotalCharges', 'MonthlyCharges', 'tenure']"
   ]
  }
 ],
 "metadata": {
  "language_info": {
   "name": "python"
  }
 },
 "nbformat": 4,
 "nbformat_minor": 5
}
